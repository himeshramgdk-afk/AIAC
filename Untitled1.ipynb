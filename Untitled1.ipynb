{
  "nbformat": 4,
  "nbformat_minor": 0,
  "metadata": {
    "colab": {
      "provenance": [],
      "authorship_tag": "ABX9TyMoanLjJ1nWBGMuqzzmCMhw",
      "include_colab_link": true
    },
    "kernelspec": {
      "name": "python3",
      "display_name": "Python 3"
    },
    "language_info": {
      "name": "python"
    }
  },
  "cells": [
    {
      "cell_type": "markdown",
      "metadata": {
        "id": "view-in-github",
        "colab_type": "text"
      },
      "source": [
        "<a href=\"https://colab.research.google.com/github/himeshramgdk-afk/AIAC/blob/main/Untitled1.ipynb\" target=\"_parent\"><img src=\"https://colab.research.google.com/assets/colab-badge.svg\" alt=\"Open In Colab\"/></a>"
      ]
    },
    {
      "cell_type": "code",
      "execution_count": 1,
      "metadata": {
        "colab": {
          "base_uri": "https://localhost:8080/",
          "height": 106
        },
        "id": "fHj9fKuDsnYV",
        "outputId": "b36c1155-b357-40f0-e6e9-524cc1928954"
      },
      "outputs": [
        {
          "output_type": "error",
          "ename": "SyntaxError",
          "evalue": "invalid syntax (ipython-input-4194412448.py, line 1)",
          "traceback": [
            "\u001b[0;36m  File \u001b[0;32m\"/tmp/ipython-input-4194412448.py\"\u001b[0;36m, line \u001b[0;32m1\u001b[0m\n\u001b[0;31m    write a python code for addition of three numbers using funcions.\u001b[0m\n\u001b[0m          ^\u001b[0m\n\u001b[0;31mSyntaxError\u001b[0m\u001b[0;31m:\u001b[0m invalid syntax\n"
          ]
        }
      ],
      "source": [
        "write a python code for addition of three numbers using funcions."
      ]
    },
    {
      "cell_type": "code",
      "metadata": {
        "colab": {
          "base_uri": "https://localhost:8080/"
        },
        "id": "881e680c",
        "outputId": "4ca44c54-d616-4dd4-89c7-dd2f48941a68"
      },
      "source": [
        "def add_three_numbers(a, b, c):\n",
        "  \"\"\"Adds three numbers and returns the result.\"\"\"\n",
        "  return a + b + c\n",
        "\n",
        "# Example usage:\n",
        "num1 = 5\n",
        "num2 = 10\n",
        "num3 = 15\n",
        "result = add_three_numbers(num1, num2, num3)\n",
        "print(f\"The sum of {num1}, {num2}, and {num3} is: {result}\")"
      ],
      "execution_count": 2,
      "outputs": [
        {
          "output_type": "stream",
          "name": "stdout",
          "text": [
            "The sum of 5, 10, and 15 is: 30\n"
          ]
        }
      ]
    }
  ]
}